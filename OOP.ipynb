{
 "cells": [
  {
   "cell_type": "markdown",
   "id": "7b25e8d0-c2a2-45fe-89d4-b8d9512d820b",
   "metadata": {},
   "source": [
    "Simple class in python"
   ]
  },
  {
   "cell_type": "code",
   "execution_count": 4,
   "id": "86b377d0-7b85-4101-9b12-49ebb82f9b75",
   "metadata": {},
   "outputs": [
    {
     "name": "stdout",
     "output_type": "stream",
     "text": [
      "pranav\n"
     ]
    }
   ],
   "source": [
    "class Person:\n",
    "    name=\"pranav\"\n",
    "p=Person()\n",
    "print(p.name)"
   ]
  },
  {
   "cell_type": "markdown",
   "id": "354550cc-a711-4e1a-bcb0-33ff9bf9fe9d",
   "metadata": {},
   "source": [
    "Constructor in python (__init__)"
   ]
  },
  {
   "cell_type": "code",
   "execution_count": 6,
   "id": "633b80b7-2b76-461e-87e3-8d2b5d08fa61",
   "metadata": {},
   "outputs": [
    {
     "name": "stdout",
     "output_type": "stream",
     "text": [
      "pranav\n"
     ]
    }
   ],
   "source": [
    "class Person:\n",
    "    def __init__(self):\n",
    "        self.name=\"pranav\"\n",
    "p=Person()\n",
    "print(p.name)"
   ]
  },
  {
   "cell_type": "markdown",
   "id": "58e5bbcc-df22-4297-a330-8e28a909ed3f",
   "metadata": {},
   "source": [
    "@static method where we dont use self"
   ]
  },
  {
   "cell_type": "code",
   "execution_count": 8,
   "id": "25bbb0e7-3840-40c0-9f25-a3b38d13d7b8",
   "metadata": {
    "scrolled": true
   },
   "outputs": [
    {
     "name": "stdout",
     "output_type": "stream",
     "text": [
      "Printing name by using static method \n",
      "pranav\n"
     ]
    }
   ],
   "source": [
    "class Person:\n",
    "    \n",
    "    @staticmethod\n",
    "    def name(nm):\n",
    "        print(\"Printing name by using static method \")\n",
    "        print(nm)\n",
    "\n",
    "p = Person()\n",
    "p.name(\"pranav\")"
   ]
  },
  {
   "cell_type": "markdown",
   "id": "9944f42b-a9bb-4d17-b358-a3154a3041ba",
   "metadata": {},
   "source": [
    "Abstraction in OOP"
   ]
  },
  {
   "cell_type": "code",
   "execution_count": 10,
   "id": "30be0922-e8cb-4b70-a497-d82444c098f8",
   "metadata": {
    "scrolled": true
   },
   "outputs": [
    {
     "name": "stdout",
     "output_type": "stream",
     "text": [
      "Car started...\n"
     ]
    }
   ],
   "source": [
    "class Car:\n",
    "    def __init__(self):\n",
    "        self.acc=False\n",
    "        self.cluch=False\n",
    "        self.brk=False\n",
    "    def start(self):\n",
    "        self.cluch=True\n",
    "        self.acc=True\n",
    "        print(\"Car started...\")\n",
    "Car1=Car()\n",
    "Car1.start()"
   ]
  },
  {
   "cell_type": "code",
   "execution_count": 12,
   "id": "458f2c43-5053-4f54-91b1-6dee9f64106c",
   "metadata": {
    "scrolled": true
   },
   "outputs": [
    {
     "name": "stdin",
     "output_type": "stream",
     "text": [
      "Enter ammount to Debit : 10000\n",
      "Enter ammount to credit : 5000\n"
     ]
    },
    {
     "name": "stdout",
     "output_type": "stream",
     "text": [
      "Account no :  8888\n",
      "Balance left in your account :  5000\n"
     ]
    }
   ],
   "source": [
    "class Account:\n",
    "    \n",
    "    def __init__(self,bal,acc_no):\n",
    "        self.balance=bal\n",
    "        self.account_no=acc_no\n",
    "    \n",
    "    def setData(self):\n",
    "        account_no=int(input(\"Enter account no:\"))\n",
    "        balance=int(input(\"Enter the balance in your account:\"))\n",
    "    \n",
    "    def Debit(self):\n",
    "        debit=int(input(\"Enter ammount to Debit :\"))\n",
    "        self.balance-=debit\n",
    "        \n",
    "    def Credit(self):\n",
    "        credit=int(input(\"Enter ammount to credit :\"))\n",
    "        self.balance+=credit\n",
    "        \n",
    "    def print(self):\n",
    "        print(\"Account no : \",self.account_no)\n",
    "        print(\"Balance left in your account : \",self.balance)\n",
    "        \n",
    "acc1=Account(10000,8888)\n",
    "acc1.Debit()\n",
    "acc1.Credit()\n",
    "acc1.print()"
   ]
  },
  {
   "cell_type": "markdown",
   "id": "4a1e0f9c-fd5f-40a9-a135-e8448df45746",
   "metadata": {},
   "source": [
    "Use of del keyword for delete the objects properties or object itself"
   ]
  },
  {
   "cell_type": "code",
   "execution_count": 4,
   "id": "28745770-37e0-44b6-8152-f6691abaf306",
   "metadata": {
    "scrolled": true
   },
   "outputs": [
    {
     "name": "stdout",
     "output_type": "stream",
     "text": [
      "pranav\n"
     ]
    }
   ],
   "source": [
    "class Student:\n",
    "    def __init__(self,name):\n",
    "        self.name=name\n",
    "s1=Student(\"pranav\")\n",
    "print(s1.name)\n",
    "del s1"
   ]
  },
  {
   "cell_type": "markdown",
   "id": "aff7b15c-39ad-4b85-b414-f2e495f77a02",
   "metadata": {},
   "source": [
    "creating privte variables and methods"
   ]
  },
  {
   "cell_type": "code",
   "execution_count": 6,
   "id": "cfd752f3-55e7-4ea5-a0fb-dc4cdb02dbde",
   "metadata": {
    "scrolled": true
   },
   "outputs": [
    {
     "name": "stdout",
     "output_type": "stream",
     "text": [
      "Hello person!\n"
     ]
    }
   ],
   "source": [
    "class person:\n",
    "    __name=\"pranav\"\n",
    "    \n",
    "    def __hello(self):\n",
    "        print(\"Hello person!\")\n",
    "        \n",
    "    def welcome(self):\n",
    "        self.__hello()\n",
    "        \n",
    "p1=person()\n",
    "p1.welcome()"
   ]
  },
  {
   "cell_type": "markdown",
   "id": "1cd34435-a66e-4250-8422-a55c4377b124",
   "metadata": {},
   "source": [
    "Simple example of single inheritance"
   ]
  },
  {
   "cell_type": "code",
   "execution_count": 8,
   "id": "3662ee99-3230-4937-948e-9a675fa87f5a",
   "metadata": {
    "scrolled": true
   },
   "outputs": [
    {
     "name": "stdout",
     "output_type": "stream",
     "text": [
      "pranav\n",
      "20\n",
      "22UAI104\n"
     ]
    }
   ],
   "source": [
    "class Person:\n",
    "    name = \"pranav\"\n",
    "    age = \"20\"\n",
    "    \n",
    "class Student(Person):\n",
    "    PRN = \"22UAI104\"\n",
    "    \n",
    "s1 = Student()\n",
    "print(s1.name)\n",
    "print(s1.age)\n",
    "print(s1.PRN)"
   ]
  },
  {
   "cell_type": "markdown",
   "id": "647f7b3d-ae27-4412-89d5-dbc85a5f36f7",
   "metadata": {},
   "source": [
    "multi_level inheritance "
   ]
  },
  {
   "cell_type": "code",
   "execution_count": 10,
   "id": "c0d1483f-2919-45a7-aaaa-eea04e8584c0",
   "metadata": {
    "scrolled": true
   },
   "outputs": [
    {
     "name": "stdout",
     "output_type": "stream",
     "text": [
      "name =  pranav\n",
      "Age =  20\n",
      "PRN =  22UAI104\n",
      "position in AISA_club =  precidant\n"
     ]
    }
   ],
   "source": [
    "class Person:\n",
    "    name = \"pranav\"\n",
    "    age = \"20\"\n",
    "    \n",
    "class Student(Person):\n",
    "    PRN = \"22UAI104\"\n",
    "    \n",
    "    def print_info(self):\n",
    "        print(\"name = \",self.name)\n",
    "        print(\"Age = \",self.age)\n",
    "        print(\"PRN = \",self.PRN)\n",
    "        \n",
    "    \n",
    "class AISA_club(Student):\n",
    "    position = \"precidant\"\n",
    "    \n",
    "    def print_pos(self):\n",
    "        print(\"position in AISA_club = \",self.position)\n",
    "    \n",
    "a1 = AISA_club()\n",
    "a1.print_info()\n",
    "a1.print_pos()"
   ]
  },
  {
   "cell_type": "markdown",
   "id": "d21a984d-adf5-4f39-8127-fb75d657cfe7",
   "metadata": {},
   "source": [
    "multiple inheritance"
   ]
  },
  {
   "cell_type": "code",
   "execution_count": 12,
   "id": "06a51086-f5e0-4fe0-ad0c-af60990a552a",
   "metadata": {
    "scrolled": true
   },
   "outputs": [
    {
     "name": "stdout",
     "output_type": "stream",
     "text": [
      "80.0\n"
     ]
    }
   ],
   "source": [
    "class Physics:\n",
    "        p_marks=70\n",
    "            \n",
    "class Chemestry:\n",
    "        c_marks=80\n",
    "            \n",
    "class Maths:\n",
    "        m_marks=90\n",
    "    \n",
    "class PCM(Physics,Chemestry,Maths):\n",
    "    per = (Physics.p_marks+Chemestry.c_marks+Maths.m_marks)/3\n",
    "    \n",
    "d1 = PCM()\n",
    "print(d1.per)"
   ]
  },
  {
   "cell_type": "markdown",
   "id": "069c164c-c475-4a26-866c-bfdc482d1804",
   "metadata": {},
   "source": [
    "Super() constructor"
   ]
  },
  {
   "cell_type": "code",
   "execution_count": 2,
   "id": "2ba38a65-a057-4e54-b5b9-bc430581d14f",
   "metadata": {
    "scrolled": true
   },
   "outputs": [
    {
     "name": "stdout",
     "output_type": "stream",
     "text": [
      "pranav\n",
      "19\n",
      "22UAI104\n"
     ]
    }
   ],
   "source": [
    "class Person:\n",
    "    def __init__(self,name,age):\n",
    "        self.name=name\n",
    "        self.age=age\n",
    "    \n",
    "class Student(Person):\n",
    "    def __init__(self, PRN, name, age):\n",
    "        self.PRN=PRN\n",
    "        super().__init__(name, age)\n",
    "    \n",
    "s1 = Student(\"22UAI104\",\"pranav\",19)\n",
    "print(s1.name)\n",
    "print(s1.age)\n",
    "print(s1.PRN)\n"
   ]
  },
  {
   "cell_type": "markdown",
   "id": "f6863693-f992-4353-a095-5ba36a7dc4c4",
   "metadata": {},
   "source": [
    "@classmethod use"
   ]
  },
  {
   "cell_type": "code",
   "execution_count": 4,
   "id": "c04b09a5-2477-4e4e-bc14-a481ed2c3ab0",
   "metadata": {
    "scrolled": true
   },
   "outputs": [
    {
     "name": "stdout",
     "output_type": "stream",
     "text": [
      "pranav\n",
      "Parth\n"
     ]
    }
   ],
   "source": [
    "class Perosn:\n",
    "    name = \"pranav\"\n",
    "    \n",
    "    @classmethod\n",
    "    def changename(cng,name):\n",
    "        cng.name=name\n",
    "\n",
    "p1 = Perosn()\n",
    "print(p1.name)\n",
    "p1.changename(\"Parth\")\n",
    "print(p1.name)"
   ]
  },
  {
   "cell_type": "code",
   "execution_count": null,
   "id": "a0914ba5-b1c6-474d-87f1-11470bf4ae88",
   "metadata": {},
   "outputs": [],
   "source": []
  }
 ],
 "metadata": {
  "kernelspec": {
   "display_name": "Python 3 (ipykernel)",
   "language": "python",
   "name": "python3"
  },
  "language_info": {
   "codemirror_mode": {
    "name": "ipython",
    "version": 3
   },
   "file_extension": ".py",
   "mimetype": "text/x-python",
   "name": "python",
   "nbconvert_exporter": "python",
   "pygments_lexer": "ipython3",
   "version": "3.12.4"
  }
 },
 "nbformat": 4,
 "nbformat_minor": 5
}
